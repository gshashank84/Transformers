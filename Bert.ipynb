{
 "cells": [
  {
   "cell_type": "code",
   "execution_count": 1,
   "id": "6c83a079",
   "metadata": {},
   "outputs": [],
   "source": [
    "import numpy as np\n",
    "import tensorflow as tf\n",
    "from tensorflow import keras"
   ]
  },
  {
   "cell_type": "code",
   "execution_count": 2,
   "id": "12d8f490",
   "metadata": {},
   "outputs": [],
   "source": [
    "class self_attention(keras.layers.Layer):\n",
    "    def __init__(self, units=512, dk=64, dv=64):\n",
    "        super().__init__()\n",
    "        self.units = units\n",
    "        self.dk = dk\n",
    "        self.dv = dv\n",
    "        self.scale_factor = 1/(self.dk**(1/2))\n",
    "        self.softmax = tf.keras.layers.Softmax(axis=-1)\n",
    "        \n",
    "    def build(self, input_shape):\n",
    "        #W_query\n",
    "        self.w_q = self.add_weight(shape=(self.units, self.dk),\n",
    "                                   initializer=\"random_normal\", \n",
    "                                   trainable=True)\n",
    "        #W_key\n",
    "        self.w_k = self.add_weight(shape=(self.units, self.dk),\n",
    "                                   initializer=\"random_normal\", \n",
    "                                   trainable=True)\n",
    "        #W_value\n",
    "        self.w_v = self.add_weight(shape=(self.units, self.dv),\n",
    "                                   initializer=\"random_normal\", \n",
    "                                   trainable=True)\n",
    "\n",
    "    def call(self, inputs):\n",
    "        query = tf.matmul(inputs, self.w_q)\n",
    "        key = tf.matmul(inputs, self.w_k)\n",
    "        value = tf.matmul(inputs, self.w_v)\n",
    "        \n",
    "        # Q x K_T\n",
    "        score = tf.matmul(query, key, transpose_b=True)\n",
    "        # Summation: [q1k1+q1k2+q1k3+.., q2k1+q2k2+q2k3+.., ..]\n",
    "        score = tf.reduce_sum(score, axis=2, keepdims=True)\n",
    "        # Scaling the score with 1/sqrt(dk)\n",
    "        score = score*self.scale_factor\n",
    "        # Using softmax\n",
    "        normalized_score = self.softmax(score)\n",
    "        \n",
    "        z = normalized_score*value\n",
    "        \n",
    "        return z"
   ]
  },
  {
   "cell_type": "code",
   "execution_count": 3,
   "id": "7a33a388",
   "metadata": {},
   "outputs": [],
   "source": [
    "class multi_head_attention(tf.keras.layers.Layer):\n",
    "    def __init__(self, n_head=8, units=512):\n",
    "        super().__init__()\n",
    "        self.n_head = n_head\n",
    "        self.units = units # <- d_model\n",
    "        self.dk = self.units//self.n_head\n",
    "        self.dv = self.dk\n",
    "        self.attention = self_attention(units=self.units, dk=self.dk, dv=self.dv)\n",
    "        self.concat = tf.keras.layers.Concatenate(axis=-1)\n",
    "        self.W = self.add_weight(shape=(self.n_head*self.dv, self.units),\n",
    "                                   initializer=\"random_normal\", \n",
    "                                   trainable=True)\n",
    "        \n",
    "    def call(self, inputs):\n",
    "        head_list = []\n",
    "        for _ in range(self.n_head):\n",
    "            head = self.attention(inputs)\n",
    "            head_list.append(head)\n",
    "            \n",
    "        concat_heads = self.concat(head_list)\n",
    "        z = tf.matmul(concat_heads, self.W)\n",
    "        \n",
    "        return z"
   ]
  },
  {
   "cell_type": "code",
   "execution_count": 4,
   "id": "bc9786c0",
   "metadata": {},
   "outputs": [],
   "source": [
    "class add_normalize(tf.keras.layers.Layer):\n",
    "    def __init__(self):\n",
    "        super().__init__()\n",
    "        self.add = tf.keras.layers.Add()\n",
    "        self.normalize = tf.keras.layers.BatchNormalization()#tf.keras.layers.LayerNormalization()\n",
    "        \n",
    "    def call(self, inputs):\n",
    "        # Addition\n",
    "        x1 = self.add([inputs[0], inputs[1]])\n",
    "        # Normalization\n",
    "        x2 = self.normalize(x1)\n",
    "        \n",
    "        return x2"
   ]
  },
  {
   "cell_type": "code",
   "execution_count": 5,
   "id": "9d169f26",
   "metadata": {
    "scrolled": true
   },
   "outputs": [],
   "source": [
    "class encoder(tf.keras.layers.Layer):\n",
    "    def __init__(self, units=512, n_head=8):\n",
    "        super().__init__()\n",
    "        self.units = units\n",
    "        self.n_head = n_head\n",
    "        self.self_attention = multi_head_attention(self.n_head, self.units)\n",
    "        self.add_normalize = add_normalize()\n",
    "        self.dense = tf.keras.layers.Dense(self.units, \n",
    "                                           activation='relu',\n",
    "                                           kernel_initializer='glorot_uniform')\n",
    "        \n",
    "    def call(self, inputs):\n",
    "        # Self-Attention\n",
    "        x1 = self.self_attention(inputs)\n",
    "        \n",
    "        # Add & Normalize\n",
    "        x2 = self.add_normalize([inputs, x1])\n",
    "        \n",
    "        # Feed Forward\n",
    "        x3 = self.dense(x2)\n",
    "        \n",
    "        # Add & Normalize\n",
    "        x4 = self.add_normalize([x2, x3])\n",
    "        \n",
    "        return x4"
   ]
  },
  {
   "cell_type": "code",
   "execution_count": 6,
   "id": "5ba64118",
   "metadata": {},
   "outputs": [],
   "source": [
    "class bert_base(tf.keras.layers.Layer):\n",
    "    def __init__(self, L=12, H=768, A=12):\n",
    "        super().__init__()\n",
    "        # L -> Number of transformer blocks (encoders)\n",
    "        # H -> Hidden vector size\n",
    "        # A -> Number of Attention Heads\n",
    "        self.L = L\n",
    "        self.H = H\n",
    "        self.A = A\n",
    "        \n",
    "        # transformer block (encoder)\n",
    "        self.encoder_block = encoder(units=self.H, n_head=self.A)\n",
    "        \n",
    "    def call(self, inputs):\n",
    "        x = inputs\n",
    "        for _ in range(self.L):\n",
    "            x = self.encoder_block(x)\n",
    "            \n",
    "        return x"
   ]
  },
  {
   "cell_type": "code",
   "execution_count": 7,
   "id": "e9c694fd",
   "metadata": {
    "scrolled": true
   },
   "outputs": [],
   "source": [
    "inputs = keras.Input(shape=(10,768,))\n",
    "outputs = bert_base(L=12, H=768, A=12)(inputs)\n",
    "\n",
    "model = keras.Model(inputs=inputs, outputs=outputs)"
   ]
  },
  {
   "cell_type": "code",
   "execution_count": 8,
   "id": "2985e0ac",
   "metadata": {
    "scrolled": true
   },
   "outputs": [
    {
     "name": "stdout",
     "output_type": "stream",
     "text": [
      "Model: \"model\"\n",
      "_________________________________________________________________\n",
      "Layer (type)                 Output Shape              Param #   \n",
      "=================================================================\n",
      "input_1 (InputLayer)         [(None, 10, 768)]         0         \n",
      "_________________________________________________________________\n",
      "bert_base (bert_base)        (None, 10, 768)           1330944   \n",
      "=================================================================\n",
      "Total params: 1,330,944\n",
      "Trainable params: 1,329,408\n",
      "Non-trainable params: 1,536\n",
      "_________________________________________________________________\n"
     ]
    }
   ],
   "source": [
    "model.summary()"
   ]
  },
  {
   "cell_type": "code",
   "execution_count": 9,
   "id": "b0a90e44",
   "metadata": {
    "scrolled": false
   },
   "outputs": [
    {
     "data": {
      "image/png": "[encoded data removed]",
      "text/plain": [
       "<IPython.core.display.Image object>"
      ]
     },
     "execution_count": 9,
     "metadata": {},
     "output_type": "execute_result"
    }
   ],
   "source": [
    "keras.utils.plot_model(model, \"Bert_Base.png\")"
   ]
  },
  {
   "cell_type": "code",
   "execution_count": null,
   "id": "2221abe9",
   "metadata": {},
   "outputs": [],
   "source": []
  }
 ],
 "metadata": {
  "kernelspec": {
   "display_name": "Python 3",
   "language": "python",
   "name": "python3"
  },
  "language_info": {
   "codemirror_mode": {
    "name": "ipython",
    "version": 3
   },
   "file_extension": ".py",
   "mimetype": "text/x-python",
   "name": "python",
   "nbconvert_exporter": "python",
   "pygments_lexer": "ipython3",
   "version": "3.8.5"
  }
 },
 "nbformat": 4,
 "nbformat_minor": 5
}
